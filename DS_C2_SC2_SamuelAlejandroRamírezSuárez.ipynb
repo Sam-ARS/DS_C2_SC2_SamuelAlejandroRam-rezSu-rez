{
  "nbformat": 4,
  "nbformat_minor": 0,
  "metadata": {
    "colab": {
      "provenance": []
    },
    "kernelspec": {
      "name": "python3",
      "display_name": "Python 3"
    },
    "language_info": {
      "name": "python"
    }
  },
  "cells": [
    {
      "cell_type": "markdown",
      "source": [
        "A) Extraer información del archivo"
      ],
      "metadata": {
        "id": "l5UZxqovTZNu"
      }
    },
    {
      "cell_type": "code",
      "source": [
        "import pandas as pd\n",
        "import numpy as np\n",
        "\n",
        "df = pd.read_csv('/content/drive/MyDrive/Data Scientist TEC/country_vaccinations.csv')\n",
        "df['date']=pd.to_datetime(df['date'])\n",
        "\n"
      ],
      "metadata": {
        "id": "qqdr5bmy29Yf"
      },
      "execution_count": 41,
      "outputs": []
    },
    {
      "cell_type": "markdown",
      "source": [
        "B) Mostrar la estructura y tipos de datos de cada columna para identificar qué operaciones puedes realizar con cada una de ellas, asegurándote que las columnas con fechas sean del tipo datetime64"
      ],
      "metadata": {
        "id": "SC-NUoQjTi-Q"
      }
    },
    {
      "cell_type": "code",
      "source": [
        "print(df.info())"
      ],
      "metadata": {
        "colab": {
          "base_uri": "https://localhost:8080/"
        },
        "id": "3S55B7fAT86J",
        "outputId": "d411db7e-0226-4c72-f6cc-fadabe2d8065"
      },
      "execution_count": 42,
      "outputs": [
        {
          "output_type": "stream",
          "name": "stdout",
          "text": [
            "<class 'pandas.core.frame.DataFrame'>\n",
            "RangeIndex: 86512 entries, 0 to 86511\n",
            "Data columns (total 15 columns):\n",
            " #   Column                               Non-Null Count  Dtype         \n",
            "---  ------                               --------------  -----         \n",
            " 0   country                              86512 non-null  object        \n",
            " 1   iso_code                             86512 non-null  object        \n",
            " 2   date                                 86512 non-null  datetime64[ns]\n",
            " 3   total_vaccinations                   43607 non-null  float64       \n",
            " 4   people_vaccinated                    41294 non-null  float64       \n",
            " 5   people_fully_vaccinated              38802 non-null  float64       \n",
            " 6   daily_vaccinations_raw               35362 non-null  float64       \n",
            " 7   daily_vaccinations                   86213 non-null  float64       \n",
            " 8   total_vaccinations_per_hundred       43607 non-null  float64       \n",
            " 9   people_vaccinated_per_hundred        41294 non-null  float64       \n",
            " 10  people_fully_vaccinated_per_hundred  38802 non-null  float64       \n",
            " 11  daily_vaccinations_per_million       86213 non-null  float64       \n",
            " 12  vaccines                             86512 non-null  object        \n",
            " 13  source_name                          86512 non-null  object        \n",
            " 14  source_website                       86512 non-null  object        \n",
            "dtypes: datetime64[ns](1), float64(9), object(5)\n",
            "memory usage: 9.9+ MB\n",
            "None\n"
          ]
        }
      ]
    },
    {
      "cell_type": "markdown",
      "source": [
        "C) Determinar la cantidad de vacunas aplicadas de cada compañía (con base en cómo lo reporta cada país en la columna vaccines, en otras palabras, agrupe por vaccines y realice la sumatoria)."
      ],
      "metadata": {
        "id": "aM4BbWHVToGe"
      }
    },
    {
      "cell_type": "code",
      "source": [
        "print(\"Cantidad de vacunas aplicadas por cada compañía: \")\n",
        "print(df[['vaccines', 'daily_vaccinations']].groupby('vaccines').sum())"
      ],
      "metadata": {
        "colab": {
          "base_uri": "https://localhost:8080/"
        },
        "id": "im2ZYc7tVMuV",
        "outputId": "eda04249-43c3-4d59-aee0-443b58781829"
      },
      "execution_count": 44,
      "outputs": [
        {
          "output_type": "stream",
          "name": "stdout",
          "text": [
            "Cantidad de vacunas aplicadas por cada compañía: \n",
            "                                                    daily_vaccinations\n",
            "vaccines                                                              \n",
            "Abdala, Johnson&Johnson, Oxford/AstraZeneca, Pf...           9616160.0\n",
            "Abdala, Moderna, Oxford/AstraZeneca, Pfizer/Bio...         201816053.0\n",
            "Abdala, Sinopharm/Beijing, Sinovac, Soberana02,...          37861146.0\n",
            "Abdala, Soberana Plus, Soberana02                           33802957.0\n",
            "COVIran Barekat, Covaxin, FAKHRAVAC, Oxford/Ast...         146357015.0\n",
            "...                                                                ...\n",
            "Pfizer/BioNTech, Sinovac, Turkovac                         147484328.0\n",
            "Pfizer/BioNTech, Sputnik V                                     68643.0\n",
            "QazVac, Sinopharm/Beijing, Sputnik V                        20891256.0\n",
            "Sinopharm/Beijing                                             893824.0\n",
            "Sinopharm/Beijing, Sputnik V                                14398697.0\n",
            "\n",
            "[84 rows x 1 columns]\n"
          ]
        }
      ]
    },
    {
      "cell_type": "markdown",
      "source": [
        "D) Obtener la cantidad de vacunas aplicadas en todo el mundo.\n",
        "Se realizó en base a la sumatoria de la columna 'daily_vaccinations'"
      ],
      "metadata": {
        "id": "wNPyHl7xTqWx"
      }
    },
    {
      "cell_type": "code",
      "source": [
        "print(\"Cantidad de vacunas aplicadas en todo el mundo: \", df['daily_vaccinations'].sum())\n"
      ],
      "metadata": {
        "colab": {
          "base_uri": "https://localhost:8080/"
        },
        "id": "jDsUCsjqXRGh",
        "outputId": "93d7b52d-81b9-4a01-9c74-b9d114829ccf"
      },
      "execution_count": 67,
      "outputs": [
        {
          "output_type": "stream",
          "name": "stdout",
          "text": [
            "Cantidad de vacunas aplicadas en todo el mundo:  11320239871.0\n"
          ]
        }
      ]
    },
    {
      "cell_type": "markdown",
      "source": [
        "E) Calcular el promedio de vacunas aplicadas por país."
      ],
      "metadata": {
        "id": "y8dTqaumTr4r"
      }
    },
    {
      "cell_type": "code",
      "source": [
        "print(\"Promedio de cantidad de vacunas aplicadas por cada país (cantidad de vacunas totales/cantidad de paises): \")\n",
        "print(\"Cantidad de paises en el registro: \", df['country'].nunique())\n",
        "print(\"Promedio de vacunas aplicadas por país: \", (df['daily_vaccinations'].sum())/(df['country'].nunique()))\n",
        "\n"
      ],
      "metadata": {
        "colab": {
          "base_uri": "https://localhost:8080/"
        },
        "id": "ya-U3VCXYHSD",
        "outputId": "5d5d5b3d-5d0c-4614-e57b-074227ec5108"
      },
      "execution_count": 71,
      "outputs": [
        {
          "output_type": "stream",
          "name": "stdout",
          "text": [
            "Promedio de cantidad de vacunas aplicadas por cada país (cantidad de vacunas totales/cantidad de paises): \n",
            "Cantidad de paises en el registro:  223\n",
            "Promedio de vacunas aplicadas por país:  50763407.49327354\n"
          ]
        }
      ]
    },
    {
      "cell_type": "markdown",
      "source": [
        "F) Determinar la cantidad de vacunas aplicadas el día 29/01/21 en todo el mundo."
      ],
      "metadata": {
        "id": "Bv7aDhiyTteK"
      }
    },
    {
      "cell_type": "code",
      "source": [
        "from datetime import date\n",
        "print(\"Cantidad de vacunas aplicadas el día 29/01/2021 en el mundo: \", (df.loc[df['date']=='2021-01-29', 'daily_vaccinations']).sum())\n",
        "#la suma de las celdas de la columna \"daily_vaccinations\" cuando date = 2021-01-29"
      ],
      "metadata": {
        "colab": {
          "base_uri": "https://localhost:8080/"
        },
        "id": "9TgLSoxTcVBB",
        "outputId": "91ed7ba2-32ef-4fcb-f26e-f160a9dc089f"
      },
      "execution_count": 88,
      "outputs": [
        {
          "output_type": "stream",
          "name": "stdout",
          "text": [
            "Cantidad de vacunas aplicadas el día 29/01/2021 en el mundo:  4884052.0\n",
            "4884052.0\n"
          ]
        }
      ]
    },
    {
      "cell_type": "markdown",
      "source": [
        "G) Crear un dataframe nuevo denominado conDiferencias que contenga los datos originales y una columna derivada (diferencias) con las diferencias de aplicación entre las columnas daily_vaccionations y daily_vaccionations_raw."
      ],
      "metadata": {
        "id": "3DEf5nqiTvaA"
      }
    },
    {
      "cell_type": "code",
      "source": [
        "conDiferencias = df\n",
        "conDiferencias['Diferencias'] = conDiferencias['daily_vaccinations'] -conDiferencias['daily_vaccinations_raw']\n",
        "print(conDiferencias['Diferencias'])"
      ],
      "metadata": {
        "colab": {
          "base_uri": "https://localhost:8080/"
        },
        "id": "FeVRMnIQg-Dp",
        "outputId": "91c464f9-a5b4-4982-9725-78105c026bfd"
      },
      "execution_count": 130,
      "outputs": [
        {
          "output_type": "stream",
          "name": "stdout",
          "text": [
            "0            NaN\n",
            "1            NaN\n",
            "2            NaN\n",
            "3            NaN\n",
            "4            NaN\n",
            "          ...   \n",
            "86507   -69634.0\n",
            "86508   -16657.0\n",
            "86509    37318.0\n",
            "86510    11293.0\n",
            "86511    -1618.0\n",
            "Name: Diferencias, Length: 86512, dtype: float64\n"
          ]
        }
      ]
    },
    {
      "cell_type": "markdown",
      "source": [
        "H) Obtener el periodo de tiempo entre el registro con fecha más reciente y el registro con fecha más antigua."
      ],
      "metadata": {
        "id": "bvrW8S82TxFk"
      }
    },
    {
      "cell_type": "code",
      "source": [
        "print(\"periodo de tiempo: \", (df['date'].max() - df['date'].min()) )\n"
      ],
      "metadata": {
        "colab": {
          "base_uri": "https://localhost:8080/"
        },
        "id": "0iS-5d_elWGe",
        "outputId": "3fdeffa1-c87c-4436-ef6d-23edd24a96d7"
      },
      "execution_count": 131,
      "outputs": [
        {
          "output_type": "stream",
          "name": "stdout",
          "text": [
            "periodo de tiempo:  482 days 00:00:00\n"
          ]
        }
      ]
    },
    {
      "cell_type": "markdown",
      "source": [
        "I) Crear un dataframe nuevo denominado conCantidad que contenga los datos originales y una columna derivada (canVac) con la cantidad de vacunas utilizadas cada día (usar la columna vaccines y separar por el carácter , )\n",
        "\n",
        "Se obtuvo cantidad de distintos tipos de vacunas utlizadas cada día"
      ],
      "metadata": {
        "id": "30XKn8R9TycY"
      }
    },
    {
      "cell_type": "code",
      "source": [
        "conCantidad = df\n",
        "conCantidad['canVac']=conCantidad['vaccines'].str.split(', ')\n",
        "conCantidad['canVac']=conCantidad['canVac'].str.len()\n",
        "print(conCantidad['canVac'])"
      ],
      "metadata": {
        "colab": {
          "base_uri": "https://localhost:8080/"
        },
        "id": "A9ZMMGn7mZSr",
        "outputId": "6da2a24e-b529-445a-bf52-46dfc7dc4392"
      },
      "execution_count": 132,
      "outputs": [
        {
          "output_type": "stream",
          "name": "stdout",
          "text": [
            "0        4\n",
            "1        4\n",
            "2        4\n",
            "3        4\n",
            "4        4\n",
            "        ..\n",
            "86507    4\n",
            "86508    4\n",
            "86509    4\n",
            "86510    4\n",
            "86511    4\n",
            "Name: canVac, Length: 86512, dtype: int64\n"
          ]
        }
      ]
    },
    {
      "cell_type": "markdown",
      "source": [
        "J) Generar un dataframe denominado antes20 con todos los registros que se hayan realizado antes del 20 de diciembre de 2020."
      ],
      "metadata": {
        "id": "6VqW2Z99T0oj"
      }
    },
    {
      "cell_type": "code",
      "source": [
        "antes20 = df\n",
        "antes20=antes20[antes20['date']<'2020-12-20']\n",
        "print(antes20)\n"
      ],
      "metadata": {
        "colab": {
          "base_uri": "https://localhost:8080/"
        },
        "id": "elimvN1bqND-",
        "outputId": "9f91e267-4716-4827-80c7-e499259b00ac"
      },
      "execution_count": 133,
      "outputs": [
        {
          "output_type": "stream",
          "name": "stdout",
          "text": [
            "             country iso_code       date  total_vaccinations  \\\n",
            "13403         Canada      CAN 2020-12-14                 5.0   \n",
            "13404         Canada      CAN 2020-12-15               727.0   \n",
            "13405         Canada      CAN 2020-12-16              3025.0   \n",
            "13406         Canada      CAN 2020-12-17              7279.0   \n",
            "13407         Canada      CAN 2020-12-18             11296.0   \n",
            "...              ...      ...        ...                 ...   \n",
            "82362  United States      USA 2020-12-15             84638.0   \n",
            "82363  United States      USA 2020-12-16            244549.0   \n",
            "82364  United States      USA 2020-12-17            517161.0   \n",
            "82365  United States      USA 2020-12-18            933551.0   \n",
            "82366  United States      USA 2020-12-19           1115437.0   \n",
            "\n",
            "       people_vaccinated  people_fully_vaccinated  daily_vaccinations_raw  \\\n",
            "13403                5.0                      NaN                     NaN   \n",
            "13404              727.0                      NaN                   722.0   \n",
            "13405             3025.0                      NaN                  2298.0   \n",
            "13406             7279.0                      NaN                  4254.0   \n",
            "13407            11296.0                      NaN                  4017.0   \n",
            "...                  ...                      ...                     ...   \n",
            "82362            76984.0                   6281.0                 49771.0   \n",
            "82363           231496.0                   6757.0                159911.0   \n",
            "82364           496980.0                   7507.0                272612.0   \n",
            "82365           904656.0                   8718.0                416390.0   \n",
            "82366          1082608.0                   9778.0                181886.0   \n",
            "\n",
            "       daily_vaccinations  total_vaccinations_per_hundred  \\\n",
            "13403                 NaN                            0.00   \n",
            "13404               722.0                            0.00   \n",
            "13405              1510.0                            0.01   \n",
            "13406              2425.0                            0.02   \n",
            "13407              2823.0                            0.03   \n",
            "...                   ...                             ...   \n",
            "82362             27175.0                            0.03   \n",
            "82363             71420.0                            0.07   \n",
            "82364            121718.0                            0.16   \n",
            "82365            180653.0                            0.28   \n",
            "82366            180858.0                            0.34   \n",
            "\n",
            "       people_vaccinated_per_hundred  people_fully_vaccinated_per_hundred  \\\n",
            "13403                           0.00                                  NaN   \n",
            "13404                           0.00                                  NaN   \n",
            "13405                           0.01                                  NaN   \n",
            "13406                           0.02                                  NaN   \n",
            "13407                           0.03                                  NaN   \n",
            "...                              ...                                  ...   \n",
            "82362                           0.02                                  0.0   \n",
            "82363                           0.07                                  0.0   \n",
            "82364                           0.15                                  0.0   \n",
            "82365                           0.27                                  0.0   \n",
            "82366                           0.33                                  0.0   \n",
            "\n",
            "       daily_vaccinations_per_million  \\\n",
            "13403                             NaN   \n",
            "13404                            19.0   \n",
            "13405                            40.0   \n",
            "13406                            64.0   \n",
            "13407                            74.0   \n",
            "...                               ...   \n",
            "82362                            82.0   \n",
            "82363                           215.0   \n",
            "82364                           367.0   \n",
            "82365                           544.0   \n",
            "82366                           545.0   \n",
            "\n",
            "                                                vaccines  \\\n",
            "13403  Johnson&Johnson, Moderna, Oxford/AstraZeneca, ...   \n",
            "13404  Johnson&Johnson, Moderna, Oxford/AstraZeneca, ...   \n",
            "13405  Johnson&Johnson, Moderna, Oxford/AstraZeneca, ...   \n",
            "13406  Johnson&Johnson, Moderna, Oxford/AstraZeneca, ...   \n",
            "13407  Johnson&Johnson, Moderna, Oxford/AstraZeneca, ...   \n",
            "...                                                  ...   \n",
            "82362          Johnson&Johnson, Moderna, Pfizer/BioNTech   \n",
            "82363          Johnson&Johnson, Moderna, Pfizer/BioNTech   \n",
            "82364          Johnson&Johnson, Moderna, Pfizer/BioNTech   \n",
            "82365          Johnson&Johnson, Moderna, Pfizer/BioNTech   \n",
            "82366          Johnson&Johnson, Moderna, Pfizer/BioNTech   \n",
            "\n",
            "                                             source_name  \\\n",
            "13403  Official data from provinces via covid19tracke...   \n",
            "13404  Official data from provinces via covid19tracke...   \n",
            "13405  Official data from provinces via covid19tracke...   \n",
            "13406  Official data from provinces via covid19tracke...   \n",
            "13407  Official data from provinces via covid19tracke...   \n",
            "...                                                  ...   \n",
            "82362         Centers for Disease Control and Prevention   \n",
            "82363         Centers for Disease Control and Prevention   \n",
            "82364         Centers for Disease Control and Prevention   \n",
            "82365         Centers for Disease Control and Prevention   \n",
            "82366         Centers for Disease Control and Prevention   \n",
            "\n",
            "                                          source_website  Diferencias  canVac  \n",
            "13403  https://covid19tracker.ca/vaccinationtracker.html          NaN       4  \n",
            "13404  https://covid19tracker.ca/vaccinationtracker.html          0.0       4  \n",
            "13405  https://covid19tracker.ca/vaccinationtracker.html       -788.0       4  \n",
            "13406  https://covid19tracker.ca/vaccinationtracker.html      -1829.0       4  \n",
            "13407  https://covid19tracker.ca/vaccinationtracker.html      -1194.0       4  \n",
            "...                                                  ...          ...     ...  \n",
            "82362  https://data.cdc.gov/Vaccinations/COVID-19-Vac...     -22596.0       3  \n",
            "82363  https://data.cdc.gov/Vaccinations/COVID-19-Vac...     -88491.0       3  \n",
            "82364  https://data.cdc.gov/Vaccinations/COVID-19-Vac...    -150894.0       3  \n",
            "82365  https://data.cdc.gov/Vaccinations/COVID-19-Vac...    -235737.0       3  \n",
            "82366  https://data.cdc.gov/Vaccinations/COVID-19-Vac...      -1028.0       3  \n",
            "\n",
            "[70 rows x 17 columns]\n"
          ]
        }
      ]
    },
    {
      "cell_type": "markdown",
      "source": [
        "K) Obtener un dataframe denominado pfizer con todos los registros donde se haya utilizado la vacuna Pfizer."
      ],
      "metadata": {
        "id": "pAZrsDBQT2Om"
      }
    },
    {
      "cell_type": "code",
      "source": [
        "pfizer = df\n",
        "pfizer = pfizer[pfizer['vaccines'].str.contains('Pfizer', case= False)]\n",
        "print(pfizer)"
      ],
      "metadata": {
        "colab": {
          "base_uri": "https://localhost:8080/"
        },
        "id": "Rg690uWPryJ5",
        "outputId": "7b34e4ce-19b8-4e20-8cd0-7093864569c3"
      },
      "execution_count": 134,
      "outputs": [
        {
          "output_type": "stream",
          "name": "stdout",
          "text": [
            "           country  iso_code       date  total_vaccinations  \\\n",
            "0      Afghanistan       AFG 2021-02-22                 0.0   \n",
            "1      Afghanistan       AFG 2021-02-23                 NaN   \n",
            "2      Afghanistan       AFG 2021-02-24                 NaN   \n",
            "3      Afghanistan       AFG 2021-02-25                 NaN   \n",
            "4      Afghanistan       AFG 2021-02-26                 NaN   \n",
            "...            ...       ...        ...                 ...   \n",
            "85069        Wales  OWID_WLS 2022-03-24           6921195.0   \n",
            "85070        Wales  OWID_WLS 2022-03-25           6923298.0   \n",
            "85071        Wales  OWID_WLS 2022-03-26           6923706.0   \n",
            "85072        Wales  OWID_WLS 2022-03-27           6925183.0   \n",
            "85073        Wales  OWID_WLS 2022-03-28           6927437.0   \n",
            "\n",
            "       people_vaccinated  people_fully_vaccinated  daily_vaccinations_raw  \\\n",
            "0                    0.0                      NaN                     NaN   \n",
            "1                    NaN                      NaN                     NaN   \n",
            "2                    NaN                      NaN                     NaN   \n",
            "3                    NaN                      NaN                     NaN   \n",
            "4                    NaN                      NaN                     NaN   \n",
            "...                  ...                      ...                     ...   \n",
            "85069          2526832.0                2397677.0                  1756.0   \n",
            "85070          2527100.0                2398097.0                  2103.0   \n",
            "85071          2527184.0                2398322.0                   408.0   \n",
            "85072          2528051.0                2398676.0                  1477.0   \n",
            "85073          2528664.0                2399341.0                  2254.0   \n",
            "\n",
            "       daily_vaccinations  total_vaccinations_per_hundred  \\\n",
            "0                     NaN                            0.00   \n",
            "1                  1367.0                             NaN   \n",
            "2                  1367.0                             NaN   \n",
            "3                  1367.0                             NaN   \n",
            "4                  1367.0                             NaN   \n",
            "...                   ...                             ...   \n",
            "85069              1705.0                          218.33   \n",
            "85070              1667.0                          218.40   \n",
            "85071              1519.0                          218.41   \n",
            "85072              1505.0                          218.46   \n",
            "85073              1609.0                          218.53   \n",
            "\n",
            "       people_vaccinated_per_hundred  people_fully_vaccinated_per_hundred  \\\n",
            "0                               0.00                                  NaN   \n",
            "1                                NaN                                  NaN   \n",
            "2                                NaN                                  NaN   \n",
            "3                                NaN                                  NaN   \n",
            "4                                NaN                                  NaN   \n",
            "...                              ...                                  ...   \n",
            "85069                          79.71                                75.64   \n",
            "85070                          79.72                                75.65   \n",
            "85071                          79.72                                75.66   \n",
            "85072                          79.75                                75.67   \n",
            "85073                          79.77                                75.69   \n",
            "\n",
            "       daily_vaccinations_per_million  \\\n",
            "0                                 NaN   \n",
            "1                                34.0   \n",
            "2                                34.0   \n",
            "3                                34.0   \n",
            "4                                34.0   \n",
            "...                               ...   \n",
            "85069                           538.0   \n",
            "85070                           526.0   \n",
            "85071                           479.0   \n",
            "85072                           475.0   \n",
            "85073                           508.0   \n",
            "\n",
            "                                                vaccines  \\\n",
            "0      Johnson&Johnson, Oxford/AstraZeneca, Pfizer/Bi...   \n",
            "1      Johnson&Johnson, Oxford/AstraZeneca, Pfizer/Bi...   \n",
            "2      Johnson&Johnson, Oxford/AstraZeneca, Pfizer/Bi...   \n",
            "3      Johnson&Johnson, Oxford/AstraZeneca, Pfizer/Bi...   \n",
            "4      Johnson&Johnson, Oxford/AstraZeneca, Pfizer/Bi...   \n",
            "...                                                  ...   \n",
            "85069       Moderna, Oxford/AstraZeneca, Pfizer/BioNTech   \n",
            "85070       Moderna, Oxford/AstraZeneca, Pfizer/BioNTech   \n",
            "85071       Moderna, Oxford/AstraZeneca, Pfizer/BioNTech   \n",
            "85072       Moderna, Oxford/AstraZeneca, Pfizer/BioNTech   \n",
            "85073       Moderna, Oxford/AstraZeneca, Pfizer/BioNTech   \n",
            "\n",
            "                            source_name  \\\n",
            "0             World Health Organization   \n",
            "1             World Health Organization   \n",
            "2             World Health Organization   \n",
            "3             World Health Organization   \n",
            "4             World Health Organization   \n",
            "...                                 ...   \n",
            "85069  Government of the United Kingdom   \n",
            "85070  Government of the United Kingdom   \n",
            "85071  Government of the United Kingdom   \n",
            "85072  Government of the United Kingdom   \n",
            "85073  Government of the United Kingdom   \n",
            "\n",
            "                                          source_website  Diferencias  canVac  \n",
            "0                               https://covid19.who.int/          NaN       4  \n",
            "1                               https://covid19.who.int/          NaN       4  \n",
            "2                               https://covid19.who.int/          NaN       4  \n",
            "3                               https://covid19.who.int/          NaN       4  \n",
            "4                               https://covid19.who.int/          NaN       4  \n",
            "...                                                  ...          ...     ...  \n",
            "85069  https://coronavirus.data.gov.uk/details/vaccin...        -51.0       3  \n",
            "85070  https://coronavirus.data.gov.uk/details/vaccin...       -436.0       3  \n",
            "85071  https://coronavirus.data.gov.uk/details/vaccin...       1111.0       3  \n",
            "85072  https://coronavirus.data.gov.uk/details/vaccin...         28.0       3  \n",
            "85073  https://coronavirus.data.gov.uk/details/vaccin...       -645.0       3  \n",
            "\n",
            "[64193 rows x 17 columns]\n"
          ]
        }
      ]
    },
    {
      "cell_type": "markdown",
      "source": [
        "L) Almacenar los dataframes generados (conDiferencias, conCantidad, antes20 y pfizer) en un archivo de Excel denominado resultadosReto.xlsx, donde cada dataframe ocupe una hoja diferente. Se recomienda ver la documentación de pd.ExcelWriter."
      ],
      "metadata": {
        "id": "IQnDY3wMT3ys"
      }
    },
    {
      "cell_type": "code",
      "source": [
        "with pd.ExcelWriter(\"/content/drive/MyDrive/Data Scientist TEC/Lección 1/resultadosReto.xlsx\",\n",
        "    mode=\"w\",\n",
        ") as writer:\n",
        "    conDiferencias.to_excel(writer, sheet_name=\"ConDiferencias\")\n",
        "    conCantidad.to_excel(writer, sheet_name=\"ConCantidad\")\n",
        "    antes20.to_excel(writer, sheet_name=\"Antes20\")\n",
        "    pfizer.to_excel(writer, sheet_name=\"pfizer\")"
      ],
      "metadata": {
        "id": "eNnFPEaes3l1"
      },
      "execution_count": 136,
      "outputs": []
    }
  ]
}